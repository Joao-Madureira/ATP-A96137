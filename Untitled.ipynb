{
 "cells": [
  {
   "cell_type": "code",
   "execution_count": null,
   "metadata": {},
   "outputs": [],
   "source": [
    "def rer():\n",
    "    print(\"Bem vindo! Vou adivinhar o número em que estás a pensar no menor número de tentativas possíveis!\")\n",
    "    n=50\n",
    "    nn=int(n//2)\n",
    "    a=input(\"O seu número é {}?\".format(n))\n",
    "    while a==\"Não\" or a==\"não\":\n",
    "        b=input(\"É maior(+/>) ou menor(-/<)?\")\n",
    "        if b== \"maior\":\n",
    "            n=n+nn\n",
    "            if nn>1:\n",
    "                nn=(nn//2)\n",
    "                a=input(\"O seu número é {}?\".format(n))\n",
    "            if nn<=1:\n",
    "                nn=1\n",
    "                a=input(\"O seu número é {}?\".format(n))\n",
    "        if b==\"menor\":\n",
    "            n=n-nn\n",
    "            if nn>1:\n",
    "                nn=(nn//2)\n",
    "                a=input(\"O seu número é {}?\".format(n))\n",
    "            if nn<=1:\n",
    "                nn=1\n",
    "                a=input(\"O seu número é {}?\".format(n))\n",
    "    if a==\"Sim\" or a==\"sim\" or a==\"S\" or a==\"s\": \n",
    "        print(\"O númrero que pensaste é\", n,\"!\")\n",
    "\n",
    "rer()"
   ]
  }
 ],
 "metadata": {
  "kernelspec": {
   "display_name": "Python 3",
   "language": "python",
   "name": "python3"
  },
  "language_info": {
   "codemirror_mode": {
    "name": "ipython",
    "version": 3
   },
   "file_extension": ".py",
   "mimetype": "text/x-python",
   "name": "python",
   "nbconvert_exporter": "python",
   "pygments_lexer": "ipython3",
   "version": "3.8.3"
  }
 },
 "nbformat": 4,
 "nbformat_minor": 4
}
