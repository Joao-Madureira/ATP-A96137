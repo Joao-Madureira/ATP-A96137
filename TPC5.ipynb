{
 "cells": [
  {
   "cell_type": "markdown",
   "metadata": {},
   "source": [
    "# Manifesto"
   ]
  },
  {
   "cell_type": "markdown",
   "metadata": {},
   "source": [
    "---"
   ]
  },
  {
   "cell_type": "markdown",
   "metadata": {},
   "source": [
    "+ __KEY NAME:__ TPC5\n",
    "+ __TITLE:__ \"Menu Polinómios\"\n",
    "+ __SUBTITLE:__ Manifesto\n",
    "+ __BEGINING DATE:__ 2021-11-12\n",
    "+ __ENDING DATE:__ 2021-11-15\n",
    "+ __SUPERVISOR:__ [José Carlos Ramalho](https://www.di.uminho.pt/~jcr/)\n",
    "+ __ATHOR:__ João Madureira, A96137"
   ]
  },
  {
   "cell_type": "markdown",
   "metadata": {},
   "source": [
    "---"
   ]
  },
  {
   "cell_type": "markdown",
   "metadata": {},
   "source": [
    "### __Abstract__:"
   ]
  },
  {
   "cell_type": "markdown",
   "metadata": {},
   "source": [
    "\n",
    "A linguagem de programação utilizada para a realização deste projeto foi python.\n",
    "\n",
    "O ficheiro resolve o problema proposto e oferece ao utilizador diversas funcionalidades relacionadas com polinómios.\n",
    "\n",
    "Assim como no trabalho anterior nos foi proposta a realização de um menu interativo, também foi feito um menu para polinómios, tendo funcionalidades desde a criação de uma tabela com os diversos resultados do polinómio, até ao cálculo da sua derivada.\n",
    "\n",
    "* Sendo indispensável a criação de uma função menu que seja interativa com o utilizador, foi feita com as possibilidades de o user: 'criar um polinómio', sendo que aparece no monitor de uma forma agradável e fácil de ler. Calcular o valor do polinómio para um dado valor de x. Apresentar uma tabela com a quantidade de resultados do polinómio que o utilizador quiser. Simplifiar o polinómio caso não esteja já na sua forma mais simples e, por fim, calcula e mostra a derivada do polinómio.\n",
    "* Por fim, cada uma destas funcionalidades está dividida em funções o que permite que o código esteja mais organizado e percetível."
   ]
  },
  {
   "cell_type": "markdown",
   "metadata": {},
   "source": [
    "---"
   ]
  },
  {
   "cell_type": "markdown",
   "metadata": {},
   "source": [
    "### Code:"
   ]
  },
  {
   "cell_type": "code",
   "execution_count": null,
   "metadata": {},
   "outputs": [],
   "source": [
    "def menu():\n",
    "    print(\"\"\"Bem vindo! Este programa tem várias funcionalidades. O que queres fazer?\n",
    "    (1) - Criar polinómio\n",
    "    (2) - Calcular polinómio\n",
    "    (3) - Calcular tabela\n",
    "    (4) - Simplificar polinómio\n",
    "    (5) - Calcular derivada do polinómio\n",
    "    (0) - Sair\"\"\")\n",
    "\n",
    "def criarTermo(coef,exp):\n",
    "    return(coef,exp)\n",
    "\n",
    "def criarPolinomio():\n",
    "    return []\n",
    "\n",
    "def inserirTermo(p,t):\n",
    "    return p.append(t)\n",
    "\n",
    "inserirTermo(p1,criarTermo(4,3))\n",
    "print (p1)\n",
    "\n",
    "def verTermo(t):\n",
    "    coef,exp=t\n",
    "    if exp==0:\n",
    "        return str(coef)\n",
    "    else:\n",
    "        return str(coef)+\"x^\"+str(exp)\n",
    "    \n",
    "def verPolinomio(p):\n",
    "    res=\"\"\n",
    "    for t in p:\n",
    "        if res==\"\":\n",
    "            res=verTermo(t)\n",
    "        else:\n",
    "            res=res + \"+\" + verTermo(t)\n",
    "    print(res)\n",
    "    \n",
    "verPolinomio(p1)\n",
    "\n",
    "def calcPol(p,x):\n",
    "    res=0\n",
    "    for i in range(len(p)):\n",
    "        t=(x**p[i][1])*p[i][0]\n",
    "        res=res+t\n",
    "    return (res)\n",
    "\n",
    "def tabela(p,n):\n",
    "    for i in range (n):\n",
    "        print(i,\"|\", calcPol(p, i))\n",
    "\n",
    "p5=[(3,2),(1,2),(-5,3),(4,2),(5,0),(-7,0),(1,1)]\n",
    "\n",
    "def chaveOrd(p):\n",
    "    _,e=p\n",
    "    return e\n",
    "    \n",
    "def ordenarPolinomio(p):\n",
    "    p.sort(reverse=True, key=chaveOrd)\n",
    "    \n",
    "def simplificarPolinomio(p):\n",
    "    ordenarPolinomio(p)\n",
    "    poln=[]\n",
    "    for i in range(1,len(p)):\n",
    "        coef,exp=p[i]\n",
    "        coef0,exp0=p[i-1]\n",
    "        if exp0==exp:\n",
    "            inserirTermo(poln,(coef+coef0,exp))\n",
    "            \n",
    "        elif exp0>exp:\n",
    "            inserirTermo(poln,(coef0,exp0))\n",
    "    return poln\n",
    "    \n",
    "def derivarPol(p):\n",
    "    res= []\n",
    "    for (c,e) in p:\n",
    "        if e>=0:\n",
    "            res.append((c*e,e-1))\n",
    "    return (res)\n",
    "\n",
    "print(simplificarPolinomio(p5))\n",
    "            \n",
    "op=1\n",
    "while op!=0:\n",
    "    print(\" \")\n",
    "    menu()\n",
    "    op=int(input(\"Opção: \"))\n",
    "    print(\" \")\n",
    "    if op==1:\n",
    "        Pol=criarPolinomio()\n",
    "        n=int(input(\"Quantos termos tem o polinómio? \"))\n",
    "        for i in range(n):\n",
    "            co=int(input('Coeficiente do termo '+str(i+1) +': '))\n",
    "            ex=int(input('Expoente do termo '+str(i+1) +': '))\n",
    "            inserirTermo(Pol,(co,ex))\n",
    "        verPolinomio(Pol)\n",
    "    elif len(Pol)==0:\n",
    "        print(\"Ainda não foi criado um polinómio!\")\n",
    "    else:\n",
    "        if op==2:\n",
    "            x=int(input(\"Qual é o valor de x? \"))\n",
    "            print(\"O valor do polinómio é \"+ str(calcPol(Pol, x)))\n",
    "        elif op==3:\n",
    "            elem=int(input(\"Quantas linhas tem a tabela?\"))\n",
    "            print(\"x |Valor\")\n",
    "            tabela(Pol,elem)\n",
    "        elif op==4:\n",
    "            print(simplificarPolinomio(Pol))\n",
    "        elif op==5:\n",
    "            print(derivarPol(Pol))        \n",
    "    "
   ]
  }
 ],
 "metadata": {
  "kernelspec": {
   "display_name": "Python 3",
   "language": "python",
   "name": "python3"
  },
  "language_info": {
   "codemirror_mode": {
    "name": "ipython",
    "version": 3
   },
   "file_extension": ".py",
   "mimetype": "text/x-python",
   "name": "python",
   "nbconvert_exporter": "python",
   "pygments_lexer": "ipython3",
   "version": "3.8.3"
  }
 },
 "nbformat": 4,
 "nbformat_minor": 4
}
