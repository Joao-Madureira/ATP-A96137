{
 "cells": [
  {
   "cell_type": "markdown",
   "metadata": {},
   "source": [
    "# Aula TeÃ³rica 6: Graphical User Interface (GUI)"
   ]
  },
  {
   "cell_type": "markdown",
   "metadata": {},
   "source": [
    "## Python Simple GUI: o mais simples...\n",
    "\n",
    "### InstalaÃ§Ã£o\n",
    "\n",
    "`pip install pysimplegui`"
   ]
  },
  {
   "cell_type": "markdown",
   "metadata": {},
   "source": [
    "### Hello world!"
   ]
  },
  {
   "cell_type": "code",
   "execution_count": 1,
   "metadata": {},
   "outputs": [
    {
     "data": {
      "text/plain": [
       "(None, [])"
      ]
     },
     "execution_count": 1,
     "metadata": {},
     "output_type": "execute_result"
    }
   ],
   "source": [
    "# hello_world.py\n",
    "\n",
    "import PySimpleGUI as sg\n",
    "\n",
    "sg.Window(title=\"Hello World\", layout=[[]], margins=(100, 50)).read()"
   ]
  },
  {
   "cell_type": "markdown",
   "metadata": {},
   "source": [
    "### Captura de eventos numa janela..."
   ]
  },
  {
   "cell_type": "code",
   "execution_count": 1,
   "metadata": {},
   "outputs": [],
   "source": [
    "# hello2.py\n",
    "\n",
    "import PySimpleGUI as sg\n",
    "\n",
    "layout = [[sg.Text(\"Hello from PySimpleGUI\")], [sg.Button(\"OK\")]]\n",
    "\n",
    "# Create the window\n",
    "window = sg.Window(\"Demo\", layout)\n",
    "stop = False\n",
    "# Create an event loop\n",
    "while not stop:\n",
    "    event, values = window.read()\n",
    "    # End program if user closes window or\n",
    "    # presses the OK button\n",
    "    if event == \"OK\" or event == sg.WIN_CLOSED:\n",
    "        stop = True\n",
    "\n",
    "window.close()"
   ]
  },
  {
   "cell_type": "markdown",
   "metadata": {},
   "source": [
    "### FormulÃ¡rios"
   ]
  },
  {
   "cell_type": "code",
   "execution_count": 4,
   "metadata": {},
   "outputs": [
    {
     "name": "stdout",
     "output_type": "stream",
     "text": [
      "InserÃ§Ã£o cancelada!...\n"
     ]
    }
   ],
   "source": [
    "# formSample.py\n",
    "# 2021-11-09\n",
    "# by jcr\n",
    "\n",
    "import PySimpleGUI as sg\n",
    "\n",
    "formLayout = [[sg.Text('Introduza os dados do registo')],\n",
    "          [sg.Text('TÃ­tulo', size=(10, 1)), sg.InputText(key='-TIT-')],\n",
    "          [sg.Text('Ano', size=(10, 1)), sg.InputText(key='-ANO-')],\n",
    "          [sg.Button('Inserir'), sg.Button('Cancelar')]]\n",
    "\n",
    "wform = sg.Window('InserÃ§Ã£o de um registo', formLayout)\n",
    "event, values = wform.read(close=True)\n",
    "\n",
    "if event == 'Inserir':\n",
    "    print('Evento: ', event, 'Dados: ', values['-TIT-'], values['-ANO-'])\n",
    "else:\n",
    "    print('InserÃ§Ã£o cancelada!...')\n",
    "    wform.close()"
   ]
  },
  {
   "cell_type": "markdown",
   "metadata": {},
   "source": [
    "### InserÃ§Ã£o dinÃ¢mica de informaÃ§Ã£o nos componentes"
   ]
  },
  {
   "cell_type": "code",
   "execution_count": 2,
   "metadata": {},
   "outputs": [],
   "source": [
    "# menuSample.py\n",
    "# 2021-11-09\n",
    "# by jcr\n",
    "\n",
    "import PySimpleGUI as sg\n",
    "\n",
    "# Painel com duas colunas: \n",
    "# Coluna 1: menu\n",
    "# Coluna 2: Dados\n",
    "\n",
    "menu_list_column = [\n",
    "    [sg.Button(\"Limpar BD\")],\n",
    "    [sg.Button(\"Carregar BD\")],\n",
    "    [sg.Button(\"Gravar BD\")],\n",
    "    [sg.Button(\"Listar BD\")],\n",
    "    [sg.Button(\"Inserir registo\")],\n",
    "    [sg.Button(\"Sair\")]\n",
    "]\n",
    "\n",
    "data_viewer_column = [\n",
    "    [sg.Text(\"Painel de Dados\")],\n",
    "    [sg.Text(size=(40, 1), key=\"-Dados-\")],\n",
    "]\n",
    "\n",
    "# ----- Full layout -----\n",
    "layout = [\n",
    "    [\n",
    "        sg.Column(menu_list_column),\n",
    "        sg.VSeperator(),\n",
    "        sg.Column(data_viewer_column),\n",
    "    ]\n",
    "]\n",
    "\n",
    "window = sg.Window(\"Sample App\", layout)\n",
    "\n",
    "# Run the Event Loop\n",
    "stop = False\n",
    "while not stop:\n",
    "    event, values = window.read()\n",
    "    if event == \"Sair\" or event == sg.WIN_CLOSED:\n",
    "        stop = True\n",
    "    # Folder name was filled in, make a list of files in the folder\n",
    "    elif event == \"Limpar BD\":\n",
    "        window[\"-Dados-\"].update(\"Vou limpar a BD...\")\n",
    "    elif event == \"Carregar BD\":  \n",
    "        window[\"-Dados-\"].update(\"Vou carregar a BD...\")\n",
    "    elif event == \"Gravar BD\":  \n",
    "        window[\"-Dados-\"].update(\"Vou gravar a BD...\")\n",
    "    elif event == \"Listar BD\":  \n",
    "        window[\"-Dados-\"].update(\"Vou listar a BD...\")\n",
    "    elif event == \"Inserir registo\":  \n",
    "        window[\"-Dados-\"].update(\"Vou inserir um registo...\")\n",
    "        \n",
    "    else:\n",
    "        window[\"-Dados-\"].update(\"Erro: evento desconhecido :: \" + inputEvent)\n",
    "\n",
    "window.close()"
   ]
  },
  {
   "cell_type": "markdown",
   "metadata": {},
   "source": [
    "### Janelas em cascata"
   ]
  },
  {
   "cell_type": "code",
   "execution_count": 3,
   "metadata": {},
   "outputs": [],
   "source": [
    "# menuSample.py\n",
    "# 2021-11-09\n",
    "# by jcr\n",
    "\n",
    "import PySimpleGUI as sg\n",
    "\n",
    "# Painel com duas colunas: \n",
    "# Coluna 1: menu\n",
    "# Coluna 2: Dados\n",
    "\n",
    "menu_list_column = [\n",
    "    [sg.Button(\"Limpar BD\")],\n",
    "    [sg.Button(\"Carregar BD\")],\n",
    "    [sg.Button(\"Gravar BD\")],\n",
    "    [sg.Button(\"Listar BD\")],\n",
    "    [sg.Button(\"Inserir registo\")],\n",
    "    [sg.Button(\"Sair\")]\n",
    "]\n",
    "\n",
    "data_viewer_column = [\n",
    "    [sg.Text(\"Painel de Dados\")],\n",
    "    [sg.Text(size=(40, 1), key=\"-Dados-\")],\n",
    "]\n",
    "\n",
    "# ----- Full layout -----\n",
    "layout = [\n",
    "    [\n",
    "        sg.Column(menu_list_column),\n",
    "        sg.VSeperator(),\n",
    "        sg.Column(data_viewer_column),\n",
    "    ]\n",
    "]\n",
    "\n",
    "window = sg.Window(\"Sample App\", layout)\n",
    "\n",
    "# Run the Event Loop\n",
    "stop = False\n",
    "while not stop:\n",
    "    event, values = window.read()\n",
    "    if event == \"Sair\" or event == sg.WIN_CLOSED:\n",
    "        stop = True\n",
    "    # Folder name was filled in, make a list of files in the folder\n",
    "    elif event == \"Limpar BD\":\n",
    "        window[\"-Dados-\"].update(\"Vou limpar a BD...\")\n",
    "    elif event == \"Carregar BD\":  \n",
    "        window[\"-Dados-\"].update(\"Vou carregar a BD...\")\n",
    "    elif event == \"Gravar BD\":  \n",
    "        window[\"-Dados-\"].update(\"Vou gravar a BD...\")\n",
    "    elif event == \"Listar BD\":  \n",
    "        window[\"-Dados-\"].update(\"Vou listar a BD...\")\n",
    "    elif event == \"Inserir registo\":  \n",
    "        window[\"-Dados-\"].update(\"Vou inserir um registo...\")\n",
    "        formLayout = [[sg.Text('Introduza os dados do registo')],\n",
    "          [sg.Text('TÃ­tulo', size=(10, 1)), sg.InputText(key='-TIT-')],\n",
    "          [sg.Text('Ano', size=(10, 1)), sg.InputText(key='-ANO-')],\n",
    "          [sg.Button('Inserir'), sg.Button('Cancelar')]]\n",
    "\n",
    "        wform = sg.Window('InserÃ§Ã£o de um registo', formLayout)\n",
    "        inputEvent, inputValues = wform.read(close=True)\n",
    "        wform.close()\n",
    "\n",
    "        if inputEvent == 'Inserir':\n",
    "            window[\"-Dados-\"].update('Evento: ' + inputEvent + 'Dados: ' + inputValues['-TIT-'] + inputValues['-ANO-'])\n",
    "        else:\n",
    "            window[\"-Dados-\"].update('InserÃ§Ã£o cancelada!...')\n",
    "        \n",
    "    else:\n",
    "        window[\"-Dados-\"].update(\"Erro: evento desconhecido :: \" + inputEvent)\n",
    "\n",
    "window.close()"
   ]
  },
  {
   "cell_type": "code",
   "execution_count": null,
   "metadata": {},
   "outputs": [],
   "source": []
  }
 ],
 "metadata": {
  "interpreter": {
   "hash": "aee8b7b246df8f9039afb4144a1f6fd8d2ca17a180786b69acc140d282b71a49"
  },
  "kernelspec": {
   "display_name": "Python 3",
   "language": "python",
   "name": "python3"
  },
  "language_info": {
   "codemirror_mode": {
    "name": "ipython",
    "version": 3
   },
   "file_extension": ".py",
   "mimetype": "text/x-python",
   "name": "python",
   "nbconvert_exporter": "python",
   "pygments_lexer": "ipython3",
   "version": "3.8.3"
  }
 },
 "nbformat": 4,
 "nbformat_minor": 4
}
