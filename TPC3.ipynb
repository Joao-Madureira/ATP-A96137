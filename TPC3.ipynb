{
 "cells": [
  {
   "cell_type": "markdown",
   "metadata": {},
   "source": [
    "# Manifesto"
   ]
  },
  {
   "cell_type": "markdown",
   "metadata": {},
   "source": [
    "---"
   ]
  },
  {
   "cell_type": "markdown",
   "metadata": {},
   "source": [
    "+ __KEY NAME:__ TPC3\n",
    "+ __TITLE:__ \"BubbleSort\"\n",
    "+ __SUBTITLE:__ Manifesto\n",
    "+ __BEGGINING DATE:__ 2021-10-23\n",
    "+ __ENDING DATE:__ 2021-10-24\n",
    "+ __SUPERVISOR:__ [José Carlos Ramalho](https://www.di.uminho.pt/~jcr/)\n",
    "+ __ATHOR:__ João Madureira, A96137"
   ]
  },
  {
   "cell_type": "markdown",
   "metadata": {},
   "source": [
    "---"
   ]
  },
  {
   "cell_type": "markdown",
   "metadata": {},
   "source": [
    "### __Abstract__:"
   ]
  },
  {
   "cell_type": "markdown",
   "metadata": {},
   "source": [
    "Este trabalho foi realizado na linguagem python e é uma tentativa de resolução dos problemas propostos no TPC3, o ordenamento de uma lista usando o processo o Bubble Sort.\n",
    "\n",
    "Inicialmente é chamada uma função menu que permite ao utilizdor escolher as opções quer, em que a opção 4 é o ordenamento da lista usando o Bubble Sort."
   ]
  },
  {
   "cell_type": "markdown",
   "metadata": {},
   "source": [
    "---"
   ]
  },
  {
   "cell_type": "markdown",
   "metadata": {},
   "source": [
    "### Code:"
   ]
  },
  {
   "cell_type": "code",
   "execution_count": null,
   "metadata": {},
   "outputs": [],
   "source": [
    "import random\n",
    "\n",
    "def menu():\n",
    "    print(\"Gestão de listas de inteiros\")\n",
    "    print(\"(1) Introduza a lista à mão;\")\n",
    "    print('(2) Gerar lista com valores aleatórios;')\n",
    "    print('(3) Maior elemento da lista;')\n",
    "    print('(4) Bubble Sort da lista;')\n",
    "    print(\"...\")\n",
    "    print(\"(0) Sair\")\n",
    "    \n",
    "def criar_manual():\n",
    "    a=int(input(\"Intoduza o nº de elementos:\"))\n",
    "    b=0\n",
    "    l=[]\n",
    "    while a!=b:\n",
    "       b=b+1\n",
    "       c=int(input(\"Introduza o elemento {}:\".format(b)))\n",
    "       l.append(c)\n",
    "    return l\n",
    "\n",
    "def criarListaA():\n",
    "    a=int(input(\"Intoduza o nº de elementos:\"))\n",
    "    b=0\n",
    "    l=[]\n",
    "    while a!=b:\n",
    "       b=b+1\n",
    "       c=random.randint(1, 100)\n",
    "       l.append(c)\n",
    "    return l\n",
    "\n",
    "def maiorElemento(l):\n",
    "    maior=l[0]\n",
    "    for i in range(l):\n",
    "       if l[i]>maior:   \n",
    "           maior=l[i]\n",
    "    return maior\n",
    "\n",
    "def BubbleSort():\n",
    "    lista=[]\n",
    "    l=int(input(\"Quantos valores quer meter na lista?\"))\n",
    "    for i in range(l):\n",
    "        a=int(input(\"Introduza um elemento a adicionar:\"))\n",
    "        lista.append(a)\n",
    "    print(lista)\n",
    "    n=1\n",
    "    while n!=0:    \n",
    "        n=0\n",
    "        for i in range(len(lista)-1):\n",
    "            if lista[i]>lista[i+1]:\n",
    "                var=lista[i]\n",
    "                lista[i]= lista[i+1]\n",
    "                lista[i+1]=var\n",
    "                n=n+1\n",
    "    return lista\n",
    "    \n",
    "menu()\n",
    "a=int(input(\"Qual a sua opção?\"))\n",
    "while a!=0:\n",
    "    if a == 1:\n",
    "        lis=criar_manual()\n",
    "        print(lis)\n",
    "        menu()\n",
    "        a=int(input(\"Qual a sua opção?\"))\n",
    "    elif a==2:\n",
    "        lis=criarListaA()\n",
    "        print(lis)\n",
    "        menu()\n",
    "        a=int(input(\"Qual a sua opção?\"))\n",
    "    elif a==3:\n",
    "        print(maiorElemento())\n",
    "    elif a==4:\n",
    "        print(BubbleSort())\n",
    "    elif a==0:\n",
    "        print(\"Adeus\")\n",
    "    else:\n",
    "        print(\"Erro\")"
   ]
  }
 ],
 "metadata": {
  "kernelspec": {
   "display_name": "Python 3",
   "language": "python",
   "name": "python3"
  },
  "language_info": {
   "codemirror_mode": {
    "name": "ipython",
    "version": 3
   },
   "file_extension": ".py",
   "mimetype": "text/x-python",
   "name": "python",
   "nbconvert_exporter": "python",
   "pygments_lexer": "ipython3",
   "version": "3.8.3"
  }
 },
 "nbformat": 4,
 "nbformat_minor": 4
}
