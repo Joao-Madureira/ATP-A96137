{
 "cells": [
  {
   "cell_type": "markdown",
   "metadata": {},
   "source": [
    "morada stor: praceta das amoreiras (?)"
   ]
  },
  {
   "cell_type": "markdown",
   "metadata": {},
   "source": [
    "exercicios de modelação = cenários da vida real muito simples e vamos modelar/operacionalizar"
   ]
  },
  {
   "cell_type": "markdown",
   "metadata": {},
   "source": [
    "visual studio code -> unica ferramenta da microsoft que se aproveita, vai usar em vez do jupyter"
   ]
  },
  {
   "cell_type": "markdown",
   "metadata": {},
   "source": [
    "# Exercício de aquecimento"
   ]
  },
  {
   "cell_type": "markdown",
   "metadata": {},
   "source": [
    "## Múltiplos de 7"
   ]
  },
  {
   "cell_type": "code",
   "execution_count": 5,
   "metadata": {},
   "outputs": [
    {
     "name": "stdout",
     "output_type": "stream",
     "text": [
      "[7, 14, 21, 28, 35, 42, 49, 56, 63, 70, 77, 84, 91, 98, 105, 112, 119, 126, 133, 140, 147, 154, 161, 168, 175, 182, 189, 196, 203, 210, 217, 224, 231, 238, 245, 252, 259, 266, 273, 280, 287, 294, 301, 308, 315, 322, 329, 336, 343, 350, 357, 364, 371, 378, 385, 392, 399, 406, 413, 420, 427, 434, 441, 448, 455, 462, 469, 476, 483, 490, 497, 504, 511, 518, 525, 532, 539, 546, 553, 560, 567, 574, 581, 588, 595, 602, 609, 616, 623, 630, 637, 644, 651, 658, 665, 672, 679, 686, 693, 700, 707, 714, 721, 728, 735, 742, 749, 756, 763, 770, 777, 784, 791, 798, 805, 812, 819, 826, 833, 840, 847, 854, 861, 868, 875, 882, 889, 896, 903, 910, 917, 924, 931, 938, 945, 952, 959, 966, 973, 980, 987, 994]\n"
     ]
    }
   ],
   "source": [
    "m7= [n for n in range (1,1001) if n%7==0]\n",
    "print (m7)"
   ]
  },
  {
   "cell_type": "markdown",
   "metadata": {},
   "source": [
    "## Defina em compreensão uma lista com os números primos de 1 a 1000"
   ]
  },
  {
   "cell_type": "code",
   "execution_count": 9,
   "metadata": {},
   "outputs": [
    {
     "name": "stdout",
     "output_type": "stream",
     "text": [
      "True\n"
     ]
    }
   ],
   "source": [
    "# nprimos= [n for n in range (1,1001) if n%2==0 ]\n",
    "\n",
    "\n",
    "\"\"\"\n",
    "tentativa:\n",
    "def ePrimo(n):\n",
    "    res= False\n",
    "    for i in range (2,n-1):\n",
    "        if n%i!=0:\n",
    "            res= True\n",
    "    return res\n",
    "\n",
    "print (ePrimo(9))\n",
    "\n",
    "\n",
    "\n",
    "resposta stor: \n",
    "def ePrimo(n):\n",
    "    res = False\n",
    "    contador=0\n",
    "    for i in range (1,n+1):\n",
    "        if n%i==0:\n",
    "            contador= contador + 1\n",
    "        if contador == 2:\n",
    "            res= True\n",
    "        return res\n",
    "primos = [i for i in range (1,1001) if ePrimo (i)]\n",
    "\n",
    "print (primos)\n",
    "\n",
    "outra alternativa:\n",
    "(para minimizar o tempo:)\n",
    "\n",
    "def ePrimo(n):\n",
    "    res = False\n",
    "    contador=0\n",
    "    for i in range (1,(n/2)+1):\n",
    "        if n%i==0:\n",
    "            contador= contador + 1\n",
    "        if contador == 1:\n",
    "            res= True\n",
    "        return res\n",
    "\n",
    "\"\"\"\n",
    "\n",
    "\n",
    "\n"
   ]
  },
  {
   "cell_type": "code",
   "execution_count": 15,
   "metadata": {},
   "outputs": [
    {
     "name": "stdout",
     "output_type": "stream",
     "text": [
      "[]\n"
     ]
    }
   ],
   "source": [
    "\n",
    "def ePrimo(n):\n",
    "    res = False\n",
    "    contador=0\n",
    "    for i in range (1,int(n/2+1)):\n",
    "        if n%i==0:\n",
    "            contador= contador + 1\n",
    "        if contador == 1:\n",
    "            res= True\n",
    "        return res\n",
    "    \n",
    "primos = [i for i in range (1,1001) if ePrimo (i)]\n",
    "\n",
    "print (primos)"
   ]
  },
  {
   "cell_type": "markdown",
   "metadata": {},
   "source": [
    "render= formatar, mostrar de forma mais embelezada"
   ]
  },
  {
   "cell_type": "markdown",
   "metadata": {},
   "source": [
    "A trabalhar com base de dados: se não forem fazer contas, metam tudo como string (nunca dá problemas)"
   ]
  },
  {
   "cell_type": "markdown",
   "metadata": {},
   "source": [
    "tipos de dados estruturados: tuplos, dicionários listas"
   ]
  },
  {
   "cell_type": "markdown",
   "metadata": {},
   "source": [
    "## Guião (que está no site)"
   ]
  },
  {
   "cell_type": "code",
   "execution_count": 22,
   "metadata": {},
   "outputs": [
    {
     "name": "stdout",
     "output_type": "stream",
     "text": [
      "[{'chaveCit': 'Ram2019', 'titulo': 'A importância da batata na inteligência do caloiro', 'autores': [('jcr', 'José Carlos Ramalho'), ('mf', 'Miguel Ferreira')], 'ano': 2019, 'local': 'DLM Forum - Lisboa'}]\n"
     ]
    }
   ],
   "source": [
    "\n",
    "registo = \"dicionário\"\n",
    "reg1= {\n",
    "        'chaveCit': \"Ram2019\",\n",
    "        'titulo': \"A importância da batata na inteligência do caloiro\",\n",
    "        'autores': [('jcr', 'José Carlos Ramalho'), (\"mf\", \"Miguel Ferreira\")],\n",
    "        'ano': 2019,\n",
    "        'local': \"DLM Forum - Lisboa\"\n",
    "    }   \n",
    "chaveCit = \"...\"\n",
    "titulo = \"...\"\n",
    "autores = \"...\"\n",
    "anoPub = \"...\"\n",
    "local = \"...\"\n",
    "#autor = em tuplo (idAutor, nome)\n",
    "idAutor = \"...\"\n",
    "nome = \"...\"\n",
    "\n",
    "bd = [reg1] \n",
    "print (bd)\n",
    "\n",
    "#se tivessem aqui campos opcionais tinha de ser dicionário e não tuplo!"
   ]
  },
  {
   "cell_type": "markdown",
   "metadata": {},
   "source": [
    "## Funcionalidades: CRUD e mais..."
   ]
  },
  {
   "cell_type": "markdown",
   "metadata": {},
   "source": [
    "#### (C)reate: construtores dos vários componentes"
   ]
  },
  {
   "cell_type": "code",
   "execution_count": null,
   "metadata": {},
   "outputs": [],
   "source": [
    "def criarRegisto(c, t, la, a, l):\n",
    "    return \n",
    "\n",
    "def criarAutor(id, n):\n",
    "\n",
    "\n",
    "def criarBD():\n",
    "return []\n",
    "def inserirReg(bd, reg):"
   ]
  }
 ],
 "metadata": {
  "kernelspec": {
   "display_name": "Python 3",
   "language": "python",
   "name": "python3"
  },
  "language_info": {
   "codemirror_mode": {
    "name": "ipython",
    "version": 3
   },
   "file_extension": ".py",
   "mimetype": "text/x-python",
   "name": "python",
   "nbconvert_exporter": "python",
   "pygments_lexer": "ipython3",
   "version": "3.8.3"
  }
 },
 "nbformat": 4,
 "nbformat_minor": 4
}
